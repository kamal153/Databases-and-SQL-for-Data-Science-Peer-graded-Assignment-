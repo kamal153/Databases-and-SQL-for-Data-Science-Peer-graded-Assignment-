{
 "cells": [
  {
   "cell_type": "markdown",
   "metadata": {},
   "source": [
    "### 1. Chicago Socioeconomic Indicators\n",
    "This <a ref=\"https://data.cityofchicago.org/Health-Human-Services/Census-Data-Selected-socioeconomic-indicators-in-C/kn9c-c2s2\" >dataset</a> contains a selection of six socioeconomic indicators of public health significance and a “hardship index,” by Chicago community area, for the years 2008 – 2012."
   ]
  },
  {
   "cell_type": "markdown",
   "metadata": {},
   "source": [
    "### 2. Chicago Public Schools\n",
    "This <a ref=\"https://data.cityofchicago.org/Education/Chicago-Public-Schools-Progress-Report-Cards-2011-/9xs2-f89t\">dataset</a> shows all school level performance data used to create CPS School Report Cards for the 2011-2012 school year."
   ]
  },
  {
   "cell_type": "markdown",
   "metadata": {},
   "source": [
    "### 3. Chicago Crime Data\n",
    "This <a ref=\"https://data.cityofchicago.org/Public-Safety/Crimes-2001-to-present/ijzp-q8t2\">dataset</a> reflects reported incidents of crime (with the exception of murders where data exists for each victim) that occurred in the City of Chicago from 2001 to present, minus the most recent seven days."
   ]
  },
  {
   "cell_type": "markdown",
   "metadata": {},
   "source": [
    "Chicago Socioeconomic Indicators: https://ibm.box.com/shared/static/05c3415cbfbtfnr2fx4atenb2sd361ze.csv"
   ]
  },
  {
   "cell_type": "markdown",
   "metadata": {},
   "source": [
    "Chicago Public Schools: https://ibm.box.com/shared/static/f9gjvj1gjmxxzycdhplzt01qtz0s7ew7.csv"
   ]
  },
  {
   "cell_type": "markdown",
   "metadata": {},
   "source": [
    "Chicago Crime Data: https://ibm.box.com/shared/static/svflyugsr9zbqy5bmowgswqemfpm1x7f.csv"
   ]
  },
  {
   "cell_type": "code",
   "execution_count": 1,
   "metadata": {},
   "outputs": [],
   "source": [
    "import ibm_db\n",
    "import pandas\n",
    "import ibm_db_dbi"
   ]
  },
  {
   "cell_type": "code",
   "execution_count": 17,
   "metadata": {},
   "outputs": [],
   "source": [
    "#Replace the placeholder values with your actual Db2 hostname, username, and password:\n",
    "dsn_hostname = \"dashdb-txn-sbox-yp-lon02-02.services.eu-gb.bluemix.net\" # e.g.: \"dashdb-txn-sbox-yp-dal09-04.services.dal.bluemix.net\"\n",
    "dsn_uid = \"xqn45df297\"        # e.g. \"abc12345\"\n",
    "dsn_pwd = \"461654KJKJjkk@153\"      # e.g. \"7dBZ3wWt9XN6$o0J\"\n",
    "\n",
    "dsn_driver = \"{IBM DB2 ODBC DRIVER}\"\n",
    "dsn_database = \"BLUDB\"            # e.g. \"BLUDB\"\n",
    "dsn_port = \"50000\"                # e.g. \"50000\" \n",
    "dsn_protocol = \"TCPIP\"            # i.e. \"TCPIP\""
   ]
  },
  {
   "cell_type": "code",
   "execution_count": 3,
   "metadata": {},
   "outputs": [
    {
     "name": "stdout",
     "output_type": "stream",
     "text": [
      "DRIVER={IBM DB2 ODBC DRIVER};DATABASE=BLUDB;HOSTNAME=dashdb-txn-sbox-yp-lon02-02.services.eu-gb.bluemix.net;PORT=50000;PROTOCOL=TCPIP;UID=xqn45297;PWD=kakadiyaKamal@153;\n"
     ]
    }
   ],
   "source": [
    "#DO NOT MODIFY THIS CELL. Just RUN it with Shift + Enter\n",
    "#Create the dsn connection string\n",
    "dsn = (\n",
    "    \"DRIVER={0};\"\n",
    "    \"DATABASE={1};\"\n",
    "    \"HOSTNAME={2};\"\n",
    "    \"PORT={3};\"\n",
    "    \"PROTOCOL={4};\"\n",
    "    \"UID={5};\"\n",
    "    \"PWD={6};\").format(dsn_driver, dsn_database, dsn_hostname, dsn_port, dsn_protocol, dsn_uid, dsn_pwd)\n",
    "\n",
    "#print the connection string to check correct values are specified\n",
    "print(dsn)"
   ]
  },
  {
   "cell_type": "code",
   "execution_count": 4,
   "metadata": {},
   "outputs": [
    {
     "name": "stdout",
     "output_type": "stream",
     "text": [
      "('Connected to database: ', 'BLUDB', 'as user: ', 'xqn45297', 'on host: ', 'dashdb-txn-sbox-yp-lon02-02.services.eu-gb.bluemix.net')\n"
     ]
    }
   ],
   "source": [
    "try:\n",
    "    conn = ibm_db.connect(dsn, \"\", \"\")\n",
    "    print (\"Connected to database: \", dsn_database, \"as user: \", dsn_uid, \"on host: \", dsn_hostname)\n",
    "\n",
    "except:\n",
    "    print (\"Unable to connect: \", ibm_db.conn_errormsg() )"
   ]
  },
  {
   "cell_type": "code",
   "execution_count": 5,
   "metadata": {},
   "outputs": [
    {
     "name": "stdout",
     "output_type": "stream",
     "text": [
      "('DBMS_NAME: ', 'DB2/LINUXX8664')\n",
      "('DBMS_VER:  ', '11.01.0404')\n",
      "('DB_NAME:   ', 'BLUDB')\n"
     ]
    }
   ],
   "source": [
    "#Retrieve Metadata for the Database Server\n",
    "server = ibm_db.server_info(conn)\n",
    "\n",
    "print (\"DBMS_NAME: \", server.DBMS_NAME)\n",
    "print (\"DBMS_VER:  \", server.DBMS_VER)\n",
    "print (\"DB_NAME:   \", server.DB_NAME)"
   ]
  },
  {
   "cell_type": "markdown",
   "metadata": {},
   "source": [
    "## 1. Find the total number of crimes recorded in the Crime table"
   ]
  },
  {
   "cell_type": "code",
   "execution_count": 6,
   "metadata": {},
   "outputs": [
    {
     "name": "stdout",
     "output_type": "stream",
     "text": [
      "       1\n",
      "0  533.0\n"
     ]
    }
   ],
   "source": [
    "query='select count(*) from CHICAGO_CRIME_DATA';\n",
    "pconn = ibm_db_dbi.Connection(conn)\n",
    "result = pandas.read_sql(query, pconn)\n",
    "print(result)"
   ]
  },
  {
   "cell_type": "markdown",
   "metadata": {},
   "source": [
    "## 2. Retrieve first 10 rows from the CRIME table"
   ]
  },
  {
   "cell_type": "code",
   "execution_count": 7,
   "metadata": {},
   "outputs": [
    {
     "name": "stdout",
     "output_type": "stream",
     "text": [
      "        ID CASE_NUMBER                    DATE                   BLOCK  IUCR  \\\n",
      "0    21149    HW519443  11/03/2013 07:27:00 PM     044XX S RICHMOND ST   110   \n",
      "1    23469    JA359626  07/23/2017 09:25:00 AM         015XX E 82ND ST   110   \n",
      "2  1326195     G021609  01/11/2001 02:30:41 AM     087XX S ESCANABA AV  9901   \n",
      "3  1340847     G040244  01/19/2001 06:39:03 PM        063XX N NAGLE AV   820   \n",
      "4  1353618     G056330  01/27/2001 04:20:00 PM       078XX S SAWYER AV   460   \n",
      "5  1363954     G070193  02/03/2001 03:00:00 AM   004XX W WRIGHTWOOD AV   460   \n",
      "6  1367327     G057394  01/28/2001 07:10:00 AM       046XX S CICERO AV  1513   \n",
      "7  1414626     G134016  03/01/2001 11:00:00 PM   055XX S NOTTINGHAM AV  1310   \n",
      "8  1419496     G140454  03/11/2001 04:44:05 PM  077XX S SOUTH SHORE DR   460   \n",
      "9  1427912     G122095  03/02/2001 04:20:00 PM      039XX N ASHLAND AV  1505   \n",
      "\n",
      "      PRIMARY_TYPE           DESCRIPTION     LOCATION_DESCRIPTION ARREST  \\\n",
      "0         HOMICIDE   FIRST DEGREE MURDER                    HOUSE   TRUE   \n",
      "1         HOMICIDE   FIRST DEGREE MURDER                   STREET  FALSE   \n",
      "2  DOMESTIC VIOLEN     DOMESTIC VIOLENCE                APARTMENT   TRUE   \n",
      "3            THEFT        $500 AND UNDER       GROCERY FOOD STORE   TRUE   \n",
      "4          BATTERY                SIMPLE  RESIDENCE PORCH/HALLWAY   TRUE   \n",
      "5          BATTERY                SIMPLE                RESIDENCE  FALSE   \n",
      "6     PROSTITUTION  SOLICIT FOR BUSINESS                   STREET   TRUE   \n",
      "7  CRIMINAL DAMAGE           TO PROPERTY                RESIDENCE  FALSE   \n",
      "8          BATTERY                SIMPLE                APARTMENT  FALSE   \n",
      "9     PROSTITUTION        CALL OPERATION                RESIDENCE   TRUE   \n",
      "\n",
      "  DOMESTIC              ...                WARD  COMMUNITY_AREA_NUMBER  \\\n",
      "0     TRUE              ...                14.0                   58.0   \n",
      "1    FALSE              ...                 8.0                   45.0   \n",
      "2     TRUE              ...                 NaN                    NaN   \n",
      "3    FALSE              ...                 NaN                    NaN   \n",
      "4     TRUE              ...                 NaN                    NaN   \n",
      "5    FALSE              ...                 NaN                    NaN   \n",
      "6    FALSE              ...                 NaN                    NaN   \n",
      "7    FALSE              ...                 NaN                    NaN   \n",
      "8    FALSE              ...                 NaN                    NaN   \n",
      "9    FALSE              ...                 NaN                    NaN   \n",
      "\n",
      "   FBICODE  X_COORDINATE Y_COORDINATE  YEAR_OF_CASE               UPDATEDON  \\\n",
      "0      01A       1157439      1875086          2013  08/05/2016 03:48:24 PM   \n",
      "1      01A       1188090      1850923          2017  07/30/2017 03:51:44 PM   \n",
      "2      08B       1196869      1847416          2001  08/17/2015 03:03:40 PM   \n",
      "3        6       1132586      1941599          2001  08/17/2015 03:03:40 PM   \n",
      "4      08B       1156032      1852572          2001  08/17/2015 03:03:40 PM   \n",
      "5      08B       1172852      1918278          2001  08/17/2015 03:03:40 PM   \n",
      "6       16       1145110      1873073          2001  08/17/2015 03:03:40 PM   \n",
      "7       14       1130022      1866716          2001  08/17/2015 03:03:40 PM   \n",
      "8      08B       1197205      1854743          2001  08/17/2015 03:03:40 PM   \n",
      "9       16       1164982      1926580          2001  08/17/2015 03:03:40 PM   \n",
      "\n",
      "    LATITUDE  LONGITUDE                       LOCATION  \n",
      "0  41.812995 -87.698029  (41.812995227, -87.698028592)  \n",
      "1  41.746013 -87.586371   (41.746013191, -87.58637073)  \n",
      "2  41.736176 -87.554320   (41.73617608, -87.554319607)  \n",
      "3  41.995984 -87.787640   (41.99598354, -87.787639887)  \n",
      "4  41.751242 -87.703794  (41.751241937, -87.703794164)  \n",
      "5  41.931190 -87.640214   (41.93119046, -87.640214004)  \n",
      "6  41.807712 -87.743303  (41.807712461, -87.743303038)  \n",
      "7  41.790539 -87.798788   (41.790538595, -87.79878798)  \n",
      "8  41.756274 -87.552845  (41.756273565, -87.552845167)  \n",
      "9  41.954143 -87.668898  (41.954142513, -87.668898147)  \n",
      "\n",
      "[10 rows x 22 columns]\n"
     ]
    }
   ],
   "source": [
    "query='select * from CHICAGO_CRIME_DATA fetch first 10 rows only';\n",
    "pconn = ibm_db_dbi.Connection(conn)\n",
    "result = pandas.read_sql(query, pconn) print(result)"
   ]
  },
  {
   "cell_type": "markdown",
   "metadata": {},
   "source": [
    "## 3. How many crimes involve an arrest"
   ]
  },
  {
   "cell_type": "code",
   "execution_count": 8,
   "metadata": {},
   "outputs": [
    {
     "name": "stdout",
     "output_type": "stream",
     "text": [
      "       1\n",
      "0  163.0\n"
     ]
    }
   ],
   "source": [
    "query='select count(1) from CHICAGO_CRIME_DATA where arrest = \"TRUE\"';\n",
    "pconn = ibm_db_dbi.Connection(conn)\n",
    "result = pandas.read_sql(query, pconn)\n",
    "print(result)"
   ]
  },
  {
   "cell_type": "markdown",
   "metadata": {},
   "source": [
    "## 4. Which unique types of crimes have been recorded at a GAS STATION?"
   ]
  },
  {
   "cell_type": "code",
   "execution_count": 9,
   "metadata": {},
   "outputs": [
    {
     "name": "stdout",
     "output_type": "stream",
     "text": [
      "      PRIMARY_TYPE\n",
      "0  CRIMINAL TRESPA\n",
      "1        NARCOTICS\n",
      "2          ROBBERY\n",
      "3            THEFT\n"
     ]
    }
   ],
   "source": [
    "query=\"select distinct PRIMARY_TYPE from CHICAGO_CRIME_DATA where LOCATION_DESCRIPTION = 'GAS STATION'\";\n",
    "pconn = ibm_db_dbi.Connection(conn)\n",
    "result = pandas.read_sql(query, pconn)\n",
    "print(result)"
   ]
  },
  {
   "cell_type": "markdown",
   "metadata": {},
   "source": [
    "## 5. In the CENUS_DATA table list all community areas whose names start with the letter ‘B’."
   ]
  },
  {
   "cell_type": "code",
   "execution_count": 10,
   "metadata": {},
   "outputs": [
    {
     "name": "stdout",
     "output_type": "stream",
     "text": [
      "  COMMUNITY_AREA_NAME\n",
      "0      Belmont Cragin\n",
      "1            Burnside\n",
      "2       Brighton Park\n",
      "3          Bridgeport\n",
      "4             Beverly\n"
     ]
    }
   ],
   "source": [
    "query=\"select COMMUNITY_AREA_NAME from CENSUS_DATA where COMMUNITY_AREA_NAME like 'B%'\";\n",
    "pconn = ibm_db_dbi.Connection(conn)\n",
    "result = pandas.read_sql(query, pconn)\n",
    "print(result)"
   ]
  },
  {
   "cell_type": "markdown",
   "metadata": {},
   "source": [
    "## 6. Which schools in Community Areas 10 to 15 are healthy school certified?"
   ]
  },
  {
   "cell_type": "code",
   "execution_count": 11,
   "metadata": {},
   "outputs": [
    {
     "name": "stdout",
     "output_type": "stream",
     "text": [
      "                    NAME_OF_SCHOOL\n",
      "0  Rufus M Hitch Elementary School\n"
     ]
    }
   ],
   "source": [
    "query=\"SELECT NAME_OF_SCHOOL FROM CHICAGO_PUBLIC_SCHOOLS WHERE HEALTHY_SCHOOL_CERTIFIED = 'Yes' \\\n",
    "AND  COMMUNITY_AREA_NUMBER BETWEEN 10 and 15\";\n",
    "pconn = ibm_db_dbi.Connection(conn)\n",
    "result = pandas.read_sql(query, pconn)\n",
    "print(result)"
   ]
  },
  {
   "cell_type": "markdown",
   "metadata": {},
   "source": [
    "## 7. What is the average school Safety Score?"
   ]
  },
  {
   "cell_type": "code",
   "execution_count": 12,
   "metadata": {},
   "outputs": [
    {
     "name": "stdout",
     "output_type": "stream",
     "text": [
      "   AVG_SCHOOL_SAFETY\n",
      "0          49.504873\n"
     ]
    }
   ],
   "source": [
    "query=\"select avg(SAFETY_SCORE) as avg_school_safety from CHICAGO_PUBLIC_SCHOOLS\";\n",
    "pconn = ibm_db_dbi.Connection(conn)\n",
    "result = pandas.read_sql(query, pconn)\n",
    "print(result)"
   ]
  },
  {
   "cell_type": "markdown",
   "metadata": {},
   "source": [
    "## 8. List the top 5 Community Areas by average College Enrollments [number of students]"
   ]
  },
  {
   "cell_type": "code",
   "execution_count": 13,
   "metadata": {},
   "outputs": [
    {
     "name": "stdout",
     "output_type": "stream",
     "text": [
      "  COMMUNITY_AREA_NAME  AVG_ENROLLMENT\n",
      "0            NDA+T388     1053.000000\n",
      "1             Average      696.900000\n",
      "2                Weak      667.482758\n",
      "3                 NDA      603.817164\n",
      "4              Strong      567.593750\n"
     ]
    }
   ],
   "source": [
    "query=\"select COMMUNITY_AREA_NAME , avg(COLLEGE_ENROLLMENT) as AVG_ENROLLMENT from CHICAGO_PUBLIC_SCHOOLS group by \\\n",
    "COMMUNITY_AREA_NAME order by AVG_ENROLLMENT desc limit 5\";\n",
    "pconn = ibm_db_dbi.Connection(conn)\n",
    "result = pandas.read_sql(query, pconn)\n",
    "print(result)"
   ]
  },
  {
   "cell_type": "markdown",
   "metadata": {},
   "source": [
    "## 9. Use a sub-query to determine which Community Area has the least value for Safety Score?"
   ]
  },
  {
   "cell_type": "code",
   "execution_count": 14,
   "metadata": {},
   "outputs": [
    {
     "name": "stdout",
     "output_type": "stream",
     "text": [
      "  COMMUNITY_AREA_NAME\n",
      "0                 NDA\n"
     ]
    }
   ],
   "source": [
    "query=\"select COMMUNITY_AREA_NAME from CHICAGO_PUBLIC_SCHOOLS where SAFETY_SCORE = \\\n",
    "(select min(SAFETY_SCORE) from CHICAGO_PUBLIC_SCHOOLS)\";\n",
    "pconn = ibm_db_dbi.Connection(conn)\n",
    "result = pandas.read_sql(query, pconn)\n",
    "print(result)"
   ]
  },
  {
   "cell_type": "markdown",
   "metadata": {},
   "source": [
    "## 10. Find the Per Capita Income of the Community Area which has a school Safety Score of 1."
   ]
  },
  {
   "cell_type": "code",
   "execution_count": 15,
   "metadata": {},
   "outputs": [
    {
     "name": "stdout",
     "output_type": "stream",
     "text": [
      "   PER_CAPITA_INCOME\n",
      "0              13785\n"
     ]
    }
   ],
   "source": [
    "query=\"select A.PER_CAPITA_INCOME from CENSUS_DATA A, CHICAGO_PUBLIC_SCHOOLS B where A.COMMUNITY_AREA_NUMBER \\\n",
    "= B.COMMUNITY_AREA_NUMBER and B.SAFETY_SCORE = 1\";\n",
    "pconn = ibm_db_dbi.Connection(conn)\n",
    "result = pandas.read_sql(query, pconn)\n",
    "print(result)"
   ]
  },
  {
   "cell_type": "code",
   "execution_count": null,
   "metadata": {},
   "outputs": [],
   "source": []
  },
  {
   "cell_type": "code",
   "execution_count": 16,
   "metadata": {},
   "outputs": [
    {
     "data": {
      "text/plain": [
       "True"
      ]
     },
     "execution_count": 16,
     "metadata": {},
     "output_type": "execute_result"
    }
   ],
   "source": [
    "ibm_db.close(conn)"
   ]
  },
  {
   "cell_type": "code",
   "execution_count": null,
   "metadata": {},
   "outputs": [],
   "source": []
  }
 ],
 "metadata": {
  "kernelspec": {
   "display_name": "Python 2",
   "language": "python",
   "name": "python2"
  },
  "language_info": {
   "codemirror_mode": {
    "name": "ipython",
    "version": 2
   },
   "file_extension": ".py",
   "mimetype": "text/x-python",
   "name": "python",
   "nbconvert_exporter": "python",
   "pygments_lexer": "ipython2",
   "version": "2.7.15"
  }
 },
 "nbformat": 4,
 "nbformat_minor": 2
}
